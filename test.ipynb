{
 "cells": [
  {
   "cell_type": "code",
   "execution_count": 1,
   "metadata": {},
   "outputs": [
    {
     "name": "stdout",
     "output_type": "stream",
     "text": [
      "4.009\n"
     ]
    }
   ],
   "source": [
    "import pandas as pd\n",
    "\n",
    "# 定义 DataFrame 包装类\n",
    "class DataFrameWrapper:\n",
    "    def __init__(self, dataframe):\n",
    "        self._df = dataframe\n",
    "    \n",
    "    def __getitem__(self, index):\n",
    "        \"\"\"通过索引直接访问行 (支持负数及切片)\"\"\"\n",
    "        return self._df.iloc[index]\n",
    "    \n",
    "    # 可选：保留直接操作原 DataFrame 的能力\n",
    "    def __getattr__(self, name):\n",
    "        \"\"\"将未定义属性访问转发到内部 DataFrame\"\"\"\n",
    "        return getattr(self._df, name)\n",
    "\n",
    "# 自定义主类\n",
    "class MyClass:\n",
    "    def __init__(self, df):\n",
    "        self.bars = DataFrameWrapper(df)  # 使用包装类\n",
    "\n",
    "# ---------- 测试用例 ----------\n",
    "# 创建示例数据\n",
    "data = {\n",
    "    'datetime': ['2025-05-20 13:07:00', '2025-05-20 13:08:00', '2025-05-20 13:09:00'],\n",
    "    'open': [4.011, 4.011, 4.009],\n",
    "    'high': [4.012, 4.011, 4.010],\n",
    "    'close': [4.010, 4.009, 4.010]\n",
    "}\n",
    "df = pd.DataFrame(data)\n",
    "\n",
    "# 初始化主类实例\n",
    "obj = MyClass(df)\n",
    "\n",
    "# 通过 self.bars[-1].open 访问最后一行的 open 值\n",
    "print(obj.bars[-1].open)  # 输出: 4.009\n"
   ]
  },
  {
   "cell_type": "code",
   "execution_count": 2,
   "metadata": {},
   "outputs": [
    {
     "name": "stdout",
     "output_type": "stream",
     "text": [
      "4.011\n"
     ]
    }
   ],
   "source": [
    "df.loc[len(df)] = {\n",
    "    'datetime': '2025-05-20 13:07:00',\n",
    "    'open': 4.011,\n",
    "    'high': 4.012,\n",
    "    'low': 4.009,\n",
    "    'close': 4.010,\n",
    "}\n",
    "print(obj.bars[-1].open)"
   ]
  },
  {
   "cell_type": "code",
   "execution_count": 4,
   "metadata": {},
   "outputs": [
    {
     "name": "stdout",
     "output_type": "stream",
     "text": [
      "1    4.011\n",
      "Name: open, dtype: float64\n"
     ]
    }
   ],
   "source": [
    "print(obj.bars[1:-2].open)"
   ]
  },
  {
   "cell_type": "code",
   "execution_count": null,
   "metadata": {},
   "outputs": [],
   "source": []
  }
 ],
 "metadata": {
  "kernelspec": {
   "display_name": ".venv",
   "language": "python",
   "name": "python3"
  },
  "language_info": {
   "codemirror_mode": {
    "name": "ipython",
    "version": 3
   },
   "file_extension": ".py",
   "mimetype": "text/x-python",
   "name": "python",
   "nbconvert_exporter": "python",
   "pygments_lexer": "ipython3",
   "version": "3.12.9"
  }
 },
 "nbformat": 4,
 "nbformat_minor": 2
}
