{
 "cells": [
  {
   "cell_type": "code",
   "execution_count": 139,
   "metadata": {},
   "outputs": [],
   "source": [
    "import json\n",
    "from enum import IntEnum\n",
    "from src.utils.pb_client import get_pb_client"
   ]
  },
  {
   "cell_type": "code",
   "execution_count": 140,
   "metadata": {},
   "outputs": [],
   "source": [
    "client = get_pb_client()\n",
    "\n",
    "class OptionCombinationType(IntEnum):\n",
    "    \"\"\"期权交易策略枚举\"\"\"\n",
    "    BULL_CALL_SPREAD = 50        # 认购牛市价差策略\n",
    "    BEAR_PUT_SPREAD = 51         # 认沽熊市价差策略\n",
    "    BULL_PUT_SPREAD = 52         # 认沽牛市价差策略\n",
    "    BEAR_CALL_SPREAD = 53        # 认购熊市价差策略\n",
    "    SHORT_STRADDLE = 54          # 跨式空头\n",
    "    SHORT_STRANGLE = 55          # 宽跨式空头\n",
    "    MARGIN_TO_COVERED = 56       # 保证金开仓转备兑开仓\n",
    "    COVERED_TO_MARGIN = 57       # 备兑开仓转保证金开仓\n",
    "\n",
    "def trade(command, symbol, volume):\n",
    "    data =  {\n",
    "        \"opType\": command,  # 50：买入开仓 51：卖出平仓 52：卖出开仓  53：买入平仓\n",
    "        \"orderType\": 1101,     \n",
    "        \"orderCode\": symbol,        \n",
    "        \"prType\": 14,         \n",
    "        \"price\": -1,   \n",
    "        \"volume\": volume, \n",
    "        \"strategyName\": \"打狗棒法\",\n",
    "        \"quickTrade\": 1,\n",
    "        \"userOrderId\": \"7416w114037s7c8\",\n",
    "        \"user\": \"v4w3357rsqml48g\", #\"1ma95x2xvh7qqdv\", #\n",
    "        \"accountId\": \"840092285\"\n",
    "    }\n",
    "    client.collection(\"tradeCommands\").create(data)\n",
    "\n",
    "def sell_open(symbol, volume):\n",
    "    trade(52, symbol, volume)\n",
    "\n",
    "def buy_open(symbol, volume):\n",
    "    trade(50, symbol, volume)\n",
    "\n",
    "def buy_close(symbol, volume):\n",
    "    trade(53, symbol, volume)\n",
    "\n",
    "def sell_close(symbol, volume):\n",
    "    trade(51, symbol, volume)\n",
    "\n",
    "def cancel(task_id):\n",
    "    data = {\n",
    "        \"orderType\": -100,     \n",
    "        \"orderCode\": task_id,        \n",
    "        \"strategyName\": \"打狗棒法\",\n",
    "        \"userOrderId\": \"7416w114037s7c8\",\n",
    "        \"user\": \"v4w3357rsqml48g\", #\"1ma95x2xvh7qqdv\", #\n",
    "        \"accountId\": \"840092285\"\n",
    "    }\n",
    "    client.collection(\"tradeCommands\").create(data)\n",
    "\n",
    "def make_combination(comd_type,code_1, is_buyer_1, code_2, is_buyer_2, volume):    \n",
    "    json_obj = {\n",
    "        f\"{code_1}\": 48 if is_buyer_1 else 49,\n",
    "        f\"{code_2}\": 48 if is_buyer_2 else 49\n",
    "    }\n",
    "    # 准备要插入的数据\n",
    "    data = {\n",
    "        \"opType\": comd_type.value, \n",
    "        \"orderType\": -200,     \n",
    "        \"orderCode\": json.dumps(json_obj),   \n",
    "        \"volume\": volume,     \n",
    "        \"strategyName\": \"打狗棒法\",\n",
    "        \"userOrderId\": \"7416w114037s7c8\",\n",
    "        \"user\": \"v4w3357rsqml48g\", #\"1ma95x2xvh7qqdv\", #\n",
    "        \"accountId\": \"840092285\"\n",
    "    }\n",
    "\n",
    "    client.collection(\"tradeCommands\").create(data)\n",
    "\n",
    "def release_combination(comb_id):\n",
    "    data = {\n",
    "        \"orderType\": -300,     \n",
    "        \"orderCode\": comb_id,        \n",
    "        \"strategyName\": \"打狗棒法\",\n",
    "        \"userOrderId\": \"7416w114037s7c8\",\n",
    "        \"user\": \"v4w3357rsqml48g\", #\"1ma95x2xvh7qqdv\", #\n",
    "        \"accountId\": \"840092285\"\n",
    "    }\n",
    "    client.collection(\"tradeCommands\").create(data)\n",
    "    "
   ]
  },
  {
   "cell_type": "markdown",
   "metadata": {},
   "source": [
    "### 下单示例"
   ]
  },
  {
   "cell_type": "code",
   "execution_count": 23,
   "metadata": {},
   "outputs": [],
   "source": [
    "call_1 = '10009326.SHO' # 6月2700\n",
    "call_2 = '10009327.SHO' # 6月2750\n",
    "put_1 = '10009335.SHO' # 6月2700\n",
    "put_2 = '10009336.SHO' # 6月2750\n",
    "\n",
    "\n",
    "sell_open(call_1, 1)\n",
    "sell_open(call_2, 1)\n",
    "sell_open(put_1, 1)\n",
    "sell_open(put_2, 1)\n",
    "\n",
    "\n",
    "\n",
    "\n"
   ]
  },
  {
   "cell_type": "markdown",
   "metadata": {},
   "source": [
    "### 初始化数据库"
   ]
  },
  {
   "cell_type": "code",
   "execution_count": 8,
   "metadata": {},
   "outputs": [],
   "source": [
    "def delete_table(client, table_name):\n",
    "    records = client.collection(table_name).get_full_list()\n",
    "    for record in records:\n",
    "        client.collection(table_name).delete(record.id)\n",
    "\n",
    "delete_table(client, \"tradeCommands\")\n",
    "delete_table(client, \"positions\")\n",
    "# delete_table(client, \"strategyAccount\")\n",
    "delete_table(client, \"strategyPositions\")\n",
    "delete_table(client, \"strategyCombinations\")"
   ]
  },
  {
   "cell_type": "markdown",
   "metadata": {},
   "source": [
    "### 通过添加deal记录实现下单"
   ]
  },
  {
   "cell_type": "code",
   "execution_count": 153,
   "metadata": {},
   "outputs": [],
   "source": [
    "def create_deal(client, code, volume, price, direction, offset, remark=''):\n",
    "    data =  {\n",
    "        \"exchangeId\": \"SHO\",\n",
    "        \"exchangeName\": \"上证股票期权\",\n",
    "        \"instrumentId\": code,\n",
    "        \"direction\": 48 if direction == \"buy\" else 49,\n",
    "        \"offsetFlag\": 48 if offset == \"open\" else 49,\n",
    "        \"price\": price,\n",
    "        \"optName\": (\"买入\" if direction == \"buy\" else \"卖出\") + ('开仓' if offset == 'open' else '平仓'),\n",
    "        \"entrustType\": 48,\n",
    "        \"accountId\": \"840092285\",\n",
    "        \"remark\": \"7416w114037s7c8\" if remark == '' else \"7416w114037s7c8.\"+remark,\n",
    "        \"user\": \"v4w3357rsqml48g\",\n",
    "        \"volume\": volume,\n",
    "        }\n",
    "\n",
    "\n",
    "    client.collection(\"deals\").create(data)"
   ]
  },
  {
   "cell_type": "code",
   "execution_count": 154,
   "metadata": {},
   "outputs": [],
   "source": [
    "create_deal(client, '10008555', 6, 0.0378, 'sell', 'open')\n",
    "create_deal(client, '10008555', 5, 0.0378, 'sell', 'open')\n",
    "create_deal(client, '10008555', 5, 0.0378, 'sell', 'open')\n",
    "create_deal(client, '10008555', 4, 0.0378, 'buy', 'close')\n",
    "create_deal(client, '10008555', 9, 0.0378, 'buy', 'close')\n",
    "create_deal(client, '10008555', 3, 0.0378, 'buy', 'close')"
   ]
  },
  {
   "cell_type": "code",
   "execution_count": 155,
   "metadata": {},
   "outputs": [],
   "source": [
    "\n",
    "create_deal(client, '10008554', 6, 0.0186, 'buy', 'open')\n",
    "create_deal(client, '10008554', 5, 0.0186, 'buy', 'open')\n",
    "create_deal(client, '10008554', 5, 0.0186, 'buy', 'open')\n",
    "create_deal(client, '10008554', 4, 0.0186, 'sell', 'close')\n",
    "create_deal(client, '10008554', 9, 0.0186, 'sell', 'close')\n",
    "create_deal(client, '10008554', 3, 0.0186, 'sell', 'close')"
   ]
  },
  {
   "cell_type": "code",
   "execution_count": 112,
   "metadata": {},
   "outputs": [],
   "source": []
  },
  {
   "cell_type": "code",
   "execution_count": 113,
   "metadata": {},
   "outputs": [],
   "source": []
  },
  {
   "cell_type": "code",
   "execution_count": 114,
   "metadata": {},
   "outputs": [],
   "source": []
  },
  {
   "cell_type": "code",
   "execution_count": 116,
   "metadata": {},
   "outputs": [],
   "source": []
  },
  {
   "cell_type": "code",
   "execution_count": null,
   "metadata": {},
   "outputs": [],
   "source": []
  }
 ],
 "metadata": {
  "kernelspec": {
   "display_name": ".venv",
   "language": "python",
   "name": "python3"
  },
  "language_info": {
   "codemirror_mode": {
    "name": "ipython",
    "version": 3
   },
   "file_extension": ".py",
   "mimetype": "text/x-python",
   "name": "python",
   "nbconvert_exporter": "python",
   "pygments_lexer": "ipython3",
   "version": "3.12.9"
  }
 },
 "nbformat": 4,
 "nbformat_minor": 2
}
