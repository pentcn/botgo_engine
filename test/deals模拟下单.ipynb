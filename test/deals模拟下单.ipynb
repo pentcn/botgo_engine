{
 "cells": [
  {
   "cell_type": "code",
   "execution_count": 1,
   "metadata": {},
   "outputs": [],
   "source": [
    "import sys\n",
    "import os\n",
    "\n",
    "# 获取当前文件所在目录的父目录\n",
    "current_dir = os.path.dirname(os.path.abspath('__file__'))\n",
    "parent_dir = os.path.dirname(current_dir)\n",
    "\n",
    "# 将父目录添加到系统路径\n",
    "if parent_dir not in sys.path:\n",
    "    sys.path.append(parent_dir)\n",
    "\n",
    "from test_remark_operations import *"
   ]
  },
  {
   "cell_type": "code",
   "execution_count": 3,
   "metadata": {},
   "outputs": [
    {
     "name": "stdout",
     "output_type": "stream",
     "text": [
      "\n",
      "============================================================\n",
      "测试场景1: 开仓后构建组合\n",
      "============================================================\n",
      "✅ 测试数据已清理\n",
      "创建持仓记录: 10008555 10手 可用:10手\n",
      "创建deals记录: 买入开仓 10008554 5手 价格:0.0186 remark:7416w114037s7c8|l67SYq4kQq22z3tDITVtFQ|10008555.SHO|-1\n",
      "\n",
      "=== 检查 开仓后构建组合 后生成的交易指令 ===\n",
      "❌ 没有生成任何交易指令\n"
     ]
    }
   ],
   "source": [
    "test_scenario_1_after_open_combination()"
   ]
  },
  {
   "cell_type": "code",
   "execution_count": 5,
   "metadata": {},
   "outputs": [
    {
     "name": "stdout",
     "output_type": "stream",
     "text": [
      "\n",
      "============================================================\n",
      "测试场景2: 平仓后开新仓\n",
      "============================================================\n",
      "✅ 测试数据已清理\n",
      "创建deals记录: 买入平仓 10008547 3手 价格:0.0378 remark:7416w114037s7c8|5A8BOxV7RQGyMSGKh4GO8w|10008801.SHO|10008809.SHO|-1\n",
      "\n",
      "=== 检查 平仓后开新仓 后生成的交易指令 ===\n",
      "指令 1:\n",
      "  操作类型: 52\n",
      "  订单类型: 1101\n",
      "  合约代码: 10008801.SHO\n",
      "  数量: 3\n",
      "  用户订单ID: 7416w114037s7c8|2C6n2RjQSvSXJ57XoUlawA|10008809.SHO|-1\n",
      "  创建时间: 2025-06-06 02:27:42\n",
      "\n"
     ]
    }
   ],
   "source": [
    "test_scenario_2_after_close_with_new_open()"
   ]
  },
  {
   "cell_type": "code",
   "execution_count": 6,
   "metadata": {},
   "outputs": [
    {
     "name": "stdout",
     "output_type": "stream",
     "text": [
      "\n",
      "============================================================\n",
      "测试场景3: 拆分组合但不平仓\n",
      "============================================================\n",
      "✅ 测试数据已清理\n",
      "创建组合记录: 10008547/10008555 5手\n",
      "创建deals记录: 拆分组合持仓 10008547/10008555 2手 价格:0 remark:7416w114037s7c8|BSIwyITgRMOwfPElzRSkBQ|0/0\n",
      "\n",
      "=== 检查 拆分组合但不平仓 后生成的交易指令 ===\n",
      "❌ 没有生成任何交易指令\n"
     ]
    }
   ],
   "source": [
    "test_scenario_3_release_combination_only()"
   ]
  },
  {
   "cell_type": "code",
   "execution_count": 7,
   "metadata": {},
   "outputs": [
    {
     "name": "stdout",
     "output_type": "stream",
     "text": [
      "\n",
      "============================================================\n",
      "测试场景4: 拆分组合后平仓\n",
      "============================================================\n",
      "✅ 测试数据已清理\n",
      "创建组合记录: 10008547/10008555 5手\n",
      "创建deals记录: 拆分组合持仓 10008547/10008555 3手 价格:0 remark:7416w114037s7c8|xtYHGNMtRE--TL6vWwpyHA|1/1\n",
      "\n",
      "=== 检查 拆分组合后平仓 后生成的交易指令 ===\n",
      "❌ 没有生成任何交易指令\n"
     ]
    }
   ],
   "source": [
    "test_scenario_4_release_combination_with_close()"
   ]
  },
  {
   "cell_type": "code",
   "execution_count": 9,
   "metadata": {},
   "outputs": [
    {
     "name": "stdout",
     "output_type": "stream",
     "text": [
      "\n",
      "============================================================\n",
      "测试场景5: 拆分组合后移仓(平仓后开新仓)\n",
      "============================================================\n",
      "✅ 测试数据已清理\n",
      "创建组合记录: 10008547/10008555 5手\n",
      "创建deals记录: 拆分组合持仓 10008547/10008555 2手 价格:0 remark:7416w114037s7c8|zCTLQiwDSdSBoDvKR9EIQg|1/1|10008801.SHO/10008809.SHO\n",
      "\n",
      "=== 检查 拆分组合后移仓 后生成的交易指令 ===\n",
      "指令 1:\n",
      "  操作类型: 53\n",
      "  订单类型: 1101\n",
      "  合约代码: 10008555\n",
      "  数量: 2\n",
      "  用户订单ID: 7416w114037s7c8|DNdFlwzyQFaJKLhnMyw7wQ|10008809.SHO|10008801.SHO|1\n",
      "  创建时间: 2025-06-06 02:31:02\n",
      "\n",
      "指令 2:\n",
      "  操作类型: 51\n",
      "  订单类型: 1101\n",
      "  合约代码: 10008547\n",
      "  数量: 2\n",
      "  用户订单ID: 7416w114037s7c8|-Zp1TUa8TtWUr0l3o9ApRg|10008801.SHO|10008809.SHO|-1\n",
      "  创建时间: 2025-06-06 02:31:02\n",
      "\n"
     ]
    }
   ],
   "source": [
    "test_scenario_5_release_combination_with_move()"
   ]
  },
  {
   "cell_type": "code",
   "execution_count": 11,
   "metadata": {},
   "outputs": [
    {
     "name": "stdout",
     "output_type": "stream",
     "text": [
      "\n",
      "============================================================\n",
      "测试场景6: 构建组合\n",
      "============================================================\n",
      "✅ 测试数据已清理\n",
      "创建deals记录: 构建组合持仓 10008546/10008555 6手 价格:0 remark:7416w114037s7c8|k2OoYqUqSmmC0-JZuSsEBg\n",
      "\n",
      "=== 检查 构建组合 后生成的交易指令 ===\n",
      "❌ 没有生成任何交易指令\n"
     ]
    }
   ],
   "source": [
    "test_scenario_6_build_combination()"
   ]
  },
  {
   "cell_type": "code",
   "execution_count": null,
   "metadata": {},
   "outputs": [],
   "source": []
  }
 ],
 "metadata": {
  "kernelspec": {
   "display_name": ".venv",
   "language": "python",
   "name": "python3"
  },
  "language_info": {
   "codemirror_mode": {
    "name": "ipython",
    "version": 3
   },
   "file_extension": ".py",
   "mimetype": "text/x-python",
   "name": "python",
   "nbconvert_exporter": "python",
   "pygments_lexer": "ipython3",
   "version": "3.12.9"
  }
 },
 "nbformat": 4,
 "nbformat_minor": 2
}
